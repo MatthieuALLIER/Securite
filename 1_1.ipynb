{
 "cells": [
  {
   "attachments": {},
   "cell_type": "markdown",
   "metadata": {},
   "source": [
    "# Ce notebook présentera les différents graphiques présents en partie 1.1"
   ]
  },
  {
   "cell_type": "code",
   "execution_count": null,
   "metadata": {
    "vscode": {
     "languageId": "plaintext"
    }
   },
   "outputs": [],
   "source": [
    "# Graphique 1 : Classement des règles les plus utilisées\n",
    "\n",
    "regles = df.policyid.value_counts()\n",
    "regles  = pd.DataFrame(regles.reset_index())\n",
    "\n",
    "fig_regles = px.bar(regles,x=\"index\", y=\"policyid\", title=\"Classement des règles\")\n",
    "fig_regles.show()"
   ]
  }
 ],
 "metadata": {
  "language_info": {
   "name": "python"
  },
  "orig_nbformat": 4
 },
 "nbformat": 4,
 "nbformat_minor": 2
}
